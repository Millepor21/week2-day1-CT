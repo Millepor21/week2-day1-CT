{
 "cells": [
  {
   "cell_type": "markdown",
   "metadata": {},
   "source": [
    "# Week 2 - Monday Lesson (variable assignment, loops, lists)"
   ]
  },
  {
   "cell_type": "markdown",
   "metadata": {},
   "source": [
    "## Tasks Today:\n",
    "\n",
    "1) Int & Float assignments <br>\n",
    " &nbsp;&nbsp;&nbsp;&nbsp; a) Assigning int <br>\n",
    " &nbsp;&nbsp;&nbsp;&nbsp; b) Assigning float <br>\n",
    " &nbsp;&nbsp;&nbsp;&nbsp; c) Performing Calculations on ints and floats <br>\n",
    " &nbsp;&nbsp;&nbsp;&nbsp;&nbsp;&nbsp;&nbsp;&nbsp; - Addition <br>\n",
    " &nbsp;&nbsp;&nbsp;&nbsp;&nbsp;&nbsp;&nbsp;&nbsp; - Subtraction <br>\n",
    " &nbsp;&nbsp;&nbsp;&nbsp;&nbsp;&nbsp;&nbsp;&nbsp; - Multiplication <br>\n",
    " &nbsp;&nbsp;&nbsp;&nbsp;&nbsp;&nbsp;&nbsp;&nbsp; - Division <br>\n",
    " &nbsp;&nbsp;&nbsp;&nbsp;&nbsp;&nbsp;&nbsp;&nbsp; - Floor Division <br>\n",
    " &nbsp;&nbsp;&nbsp;&nbsp;&nbsp;&nbsp;&nbsp;&nbsp; - Modulo <br>\n",
    " &nbsp;&nbsp;&nbsp;&nbsp;&nbsp;&nbsp;&nbsp;&nbsp; - Exponential <br>\n",
    "2) String Input-Output <br>\n",
    " &nbsp;&nbsp;&nbsp;&nbsp; a) String Assignment <br>\n",
    " &nbsp;&nbsp;&nbsp;&nbsp; b) print() <br>\n",
    " &nbsp;&nbsp;&nbsp;&nbsp; c) String Concatenation <br>\n",
    " &nbsp;&nbsp;&nbsp;&nbsp; d) Type Conversion <br>\n",
    " &nbsp;&nbsp;&nbsp;&nbsp; e) input() <br>\n",
    " &nbsp;&nbsp;&nbsp;&nbsp; f) format() <br>\n",
    " &nbsp;&nbsp;&nbsp;&nbsp; g) Old Way (python 2) <br>\n",
    "3) <b>In-Class Exercise #1</b> <br>\n",
    "4) If Statements <br>\n",
    " &nbsp;&nbsp;&nbsp;&nbsp; a) 'is' keyword <br>\n",
    " &nbsp;&nbsp;&nbsp;&nbsp; b) 'in' keyword <br>\n",
    " &nbsp;&nbsp;&nbsp;&nbsp; c) 'not in' keyword <br>\n",
    "5) <b>In-Class Exercise #2</b> <br>\n",
    "6) Elif Statements <br>\n",
    "7) Else Statements <br>\n",
    "8) <b>In-Class Exercise #3</b> <br>\n",
    "9) For Loops <br>\n",
    " &nbsp;&nbsp;&nbsp;&nbsp; a) Using 'in' keyword <br>\n",
    " &nbsp;&nbsp;&nbsp;&nbsp; b) Continue Statement <br>\n",
    " &nbsp;&nbsp;&nbsp;&nbsp; c) Break Statement <br>\n",
    " &nbsp;&nbsp;&nbsp;&nbsp; d) Pass Statement <br>\n",
    " &nbsp;&nbsp;&nbsp;&nbsp; e) Double For Loops <br>\n",
    "10) While Loops <br>\n",
    " &nbsp;&nbsp;&nbsp;&nbsp; a) Looping 'While True' <br>\n",
    " &nbsp;&nbsp;&nbsp;&nbsp; b) While and For Loops Used Together <br>\n",
    "11) Built-In Functions <br>\n",
    " &nbsp;&nbsp;&nbsp;&nbsp; a) range() <br>\n",
    " &nbsp;&nbsp;&nbsp;&nbsp; b) len() <br>\n",
    " &nbsp;&nbsp;&nbsp;&nbsp; c) help() <br>\n",
    " &nbsp;&nbsp;&nbsp;&nbsp; d) isinstance() <br>\n",
    " &nbsp;&nbsp;&nbsp;&nbsp; e) abs() <br>\n",
    "12) Try and Except <br>\n",
    "13) Lists <br>\n",
    " &nbsp;&nbsp;&nbsp;&nbsp; a) Declaring Lists <br>\n",
    " &nbsp;&nbsp;&nbsp;&nbsp; b) Indexing a List <br>\n",
    " &nbsp;&nbsp;&nbsp;&nbsp; c) .append() <br>\n",
    " &nbsp;&nbsp;&nbsp;&nbsp; d) .insert() <br>\n",
    " &nbsp;&nbsp;&nbsp;&nbsp; e) .pop() <br>\n",
    " &nbsp;&nbsp;&nbsp;&nbsp; f) .remove() <br>\n",
    " &nbsp;&nbsp;&nbsp;&nbsp; g) del() <br>\n",
    " &nbsp;&nbsp;&nbsp;&nbsp; h) Concatenating Two Lists <br>\n",
    " &nbsp;&nbsp;&nbsp;&nbsp; i) Lists Within Lists <br>\n",
    " &nbsp;&nbsp;&nbsp;&nbsp; j) Looping Through Lists <br>"
   ]
  },
  {
   "cell_type": "markdown",
   "metadata": {},
   "source": [
    "### Int & Float Assignments"
   ]
  },
  {
   "cell_type": "markdown",
   "metadata": {},
   "source": [
    "##### Assigning int"
   ]
  },
  {
   "cell_type": "code",
   "execution_count": 49,
   "metadata": {},
   "outputs": [
    {
     "name": "stdout",
     "output_type": "stream",
     "text": [
      "10\n"
     ]
    },
    {
     "data": {
      "text/plain": [
       "int"
      ]
     },
     "execution_count": 49,
     "metadata": {},
     "output_type": "execute_result"
    }
   ],
   "source": [
    "my_number = 10\n",
    "\n",
    "print(my_number)\n",
    "type(my_number)"
   ]
  },
  {
   "cell_type": "markdown",
   "metadata": {},
   "source": [
    "##### Assinging float"
   ]
  },
  {
   "cell_type": "code",
   "execution_count": null,
   "metadata": {},
   "outputs": [],
   "source": [
    "my_float =10.5\n",
    "\n",
    "print(my_float)\n",
    "type(my_float)\n",
    "\n",
    "whole_float=11.0\n",
    "\n",
    "print(type(whole_float))"
   ]
  },
  {
   "cell_type": "markdown",
   "metadata": {},
   "source": [
    "#### Performing Calculations on ints and floats"
   ]
  },
  {
   "cell_type": "markdown",
   "metadata": {},
   "source": [
    "##### Addition"
   ]
  },
  {
   "cell_type": "code",
   "execution_count": null,
   "metadata": {},
   "outputs": [],
   "source": [
    "print(5+5)\n",
    "\n",
    "my_number + 5\n",
    "\n",
    "print(5.5 + 5.5)\n",
    "\n",
    "whole_float + my_float"
   ]
  },
  {
   "cell_type": "code",
   "execution_count": 30,
   "metadata": {},
   "outputs": [
    {
     "name": "stdout",
     "output_type": "stream",
     "text": [
      "10\n",
      "15\n"
     ]
    }
   ],
   "source": [
    "print(my_number)\n",
    "\n",
    "# my_number = my_number +5\n",
    "my_number += 5\n",
    "print(my_number)"
   ]
  },
  {
   "cell_type": "markdown",
   "metadata": {},
   "source": [
    "##### Subtraction"
   ]
  },
  {
   "cell_type": "code",
   "execution_count": null,
   "metadata": {},
   "outputs": [],
   "source": []
  },
  {
   "cell_type": "code",
   "execution_count": 31,
   "metadata": {},
   "outputs": [
    {
     "name": "stdout",
     "output_type": "stream",
     "text": [
      "5\n"
     ]
    }
   ],
   "source": [
    "my_number - 10\n",
    "\n",
    "my_number\n",
    "\n",
    "# my_number = my_number - 10\n",
    "my_number -= 10\n",
    "\n",
    "print(my_number)"
   ]
  },
  {
   "cell_type": "code",
   "execution_count": 32,
   "metadata": {},
   "outputs": [
    {
     "name": "stdout",
     "output_type": "stream",
     "text": [
      "10.5\n",
      "5.0\n"
     ]
    }
   ],
   "source": [
    "15.5 - 10.5\n",
    "\n",
    "my_float - 5.5\n",
    "\n",
    "print(my_float)\n",
    "\n",
    "# my_float = my_float - 5.5\n",
    "my_float -= 5.5\n",
    "\n",
    "print(my_float)"
   ]
  },
  {
   "cell_type": "markdown",
   "metadata": {},
   "source": [
    "##### Multiplication"
   ]
  },
  {
   "cell_type": "code",
   "execution_count": 33,
   "metadata": {},
   "outputs": [
    {
     "name": "stdout",
     "output_type": "stream",
     "text": [
      "10\n",
      "10 50\n"
     ]
    }
   ],
   "source": [
    "10 * 10\n",
    "\n",
    "new_num = 10 \n",
    "\n",
    "new_num * 5\n",
    "\n",
    "print(new_num)\n",
    "\n",
    "prod = new_num * 5\n",
    "\n",
    "print(new_num, prod)\n",
    "\n"
   ]
  },
  {
   "cell_type": "code",
   "execution_count": 38,
   "metadata": {},
   "outputs": [
    {
     "name": "stdout",
     "output_type": "stream",
     "text": [
      "25.0\n"
     ]
    }
   ],
   "source": [
    "print(my_float)\n",
    "\n",
    "my_float * new_num\n",
    "\n",
    "# my_float = my_float * 5\n",
    "\n",
    "my_float *= 4.5"
   ]
  },
  {
   "cell_type": "code",
   "execution_count": 39,
   "metadata": {},
   "outputs": [
    {
     "name": "stdout",
     "output_type": "stream",
     "text": [
      "112.5\n"
     ]
    }
   ],
   "source": [
    "print(my_float)"
   ]
  },
  {
   "cell_type": "markdown",
   "metadata": {},
   "source": [
    "##### Division"
   ]
  },
  {
   "cell_type": "code",
   "execution_count": 41,
   "metadata": {},
   "outputs": [
    {
     "name": "stdout",
     "output_type": "stream",
     "text": [
      "2.0\n",
      "2\n",
      "2.5\n",
      "2.5\n"
     ]
    }
   ],
   "source": [
    "print(10 / 5)\n",
    "\n",
    "print(int(10/5))\n",
    "\n",
    "print(my_number/2)\n",
    "\n",
    "# my_number = my_number / 2\n",
    "my_number /= 2\n",
    "print(my_number)"
   ]
  },
  {
   "cell_type": "code",
   "execution_count": null,
   "metadata": {},
   "outputs": [],
   "source": []
  },
  {
   "cell_type": "markdown",
   "metadata": {},
   "source": [
    "##### Floor Division"
   ]
  },
  {
   "cell_type": "code",
   "execution_count": 50,
   "metadata": {},
   "outputs": [
    {
     "name": "stdout",
     "output_type": "stream",
     "text": [
      "10\n",
      "5\n"
     ]
    }
   ],
   "source": [
    "11//5\n",
    "10.5 // 5\n",
    "\n",
    "my_number // 2\n",
    "\n",
    "print(my_number)\n",
    "\n",
    "# my_number = my_number // 2\n",
    "my_number //= 2\n",
    "\n",
    "print(my_number)"
   ]
  },
  {
   "cell_type": "markdown",
   "metadata": {},
   "source": [
    "##### Modulo"
   ]
  },
  {
   "cell_type": "code",
   "execution_count": 52,
   "metadata": {},
   "outputs": [
    {
     "name": "stdout",
     "output_type": "stream",
     "text": [
      "1\n"
     ]
    }
   ],
   "source": [
    "11 % 5\n",
    "\n",
    "my_number = 10\n",
    "my_number % 3\n",
    "\n",
    "my_number = my_number % 3\n",
    "my_number %= 3\n",
    "\n",
    "print(my_number)"
   ]
  },
  {
   "cell_type": "markdown",
   "metadata": {},
   "source": [
    "##### Exponential"
   ]
  },
  {
   "cell_type": "code",
   "execution_count": 55,
   "metadata": {},
   "outputs": [
    {
     "data": {
      "text/plain": [
       "1000"
      ]
     },
     "execution_count": 55,
     "metadata": {},
     "output_type": "execute_result"
    }
   ],
   "source": [
    "10**2\n",
    "\n",
    "new_number = 10\n",
    "\n",
    "new_number**3"
   ]
  },
  {
   "cell_type": "markdown",
   "metadata": {},
   "source": [
    "### String Input-Output"
   ]
  },
  {
   "cell_type": "markdown",
   "metadata": {},
   "source": [
    "##### String Assignment"
   ]
  },
  {
   "cell_type": "code",
   "execution_count": 57,
   "metadata": {},
   "outputs": [
    {
     "name": "stdout",
     "output_type": "stream",
     "text": [
      "hello world\n",
      "<class 'str'>\n"
     ]
    }
   ],
   "source": [
    "new_string = 'hello world'\n",
    "\n",
    "print(new_string)\n",
    "\n",
    "print(type(new_string))"
   ]
  },
  {
   "cell_type": "markdown",
   "metadata": {},
   "source": [
    "##### print() <br>\n",
    "<p>Don't forget about end=' '</p>"
   ]
  },
  {
   "cell_type": "code",
   "execution_count": 64,
   "metadata": {},
   "outputs": [
    {
     "name": "stdout",
     "output_type": "stream",
     "text": [
      "hello string matrix week-2\n",
      "on new line\n"
     ]
    }
   ],
   "source": [
    "# default end=\"\\n\" ex: print('hello world', end='\\n\n",
    "\n",
    "print('hello string', end=' ') \n",
    "\n",
    "print('matrix week-2')\n",
    "print('on new line')"
   ]
  },
  {
   "cell_type": "markdown",
   "metadata": {},
   "source": [
    "##### String Concatenation"
   ]
  },
  {
   "cell_type": "code",
   "execution_count": 70,
   "metadata": {},
   "outputs": [
    {
     "name": "stdout",
     "output_type": "stream",
     "text": [
      "hello world sean\n",
      "hello world\n"
     ]
    }
   ],
   "source": [
    "instructor = 'sean'\n",
    "\n",
    "print(new_string + ' ' + instructor)\n",
    "\n",
    "print(new_string)"
   ]
  },
  {
   "cell_type": "code",
   "execution_count": 71,
   "metadata": {},
   "outputs": [
    {
     "name": "stdout",
     "output_type": "stream",
     "text": [
      "hello world\n",
      "hello world python week\n"
     ]
    }
   ],
   "source": [
    "new_string + ' ' +'python week'\n",
    "\n",
    "print(new_string)\n",
    "\n",
    "# new_string = new_string + ' python week'\n",
    "new_string += ' python week'\n",
    "\n",
    "print(new_string)"
   ]
  },
  {
   "cell_type": "markdown",
   "metadata": {},
   "source": [
    "##### Type Conversion"
   ]
  },
  {
   "cell_type": "code",
   "execution_count": 85,
   "metadata": {},
   "outputs": [
    {
     "name": "stdout",
     "output_type": "stream",
     "text": [
      "10.a\n",
      "unable to convert\n"
     ]
    }
   ],
   "source": [
    "type(int('105'))\n",
    "\n",
    "number_string = '10.a'\n",
    "\n",
    "print(number_string)\n",
    "\n",
    "number_string.isdigit()\n",
    "\n",
    "if number_string.isdigit():\n",
    "    int(number_string)\n",
    "else:\n",
    "    print(\"unable to convert\")\n",
    "        "
   ]
  },
  {
   "cell_type": "markdown",
   "metadata": {},
   "source": [
    "##### input()"
   ]
  },
  {
   "cell_type": "code",
   "execution_count": 92,
   "metadata": {},
   "outputs": [
    {
     "name": "stdout",
     "output_type": "stream",
     "text": [
      "What is your name: Porter\n"
     ]
    }
   ],
   "source": [
    "name = input(\"What is your name: \")\n",
    "\n",
    "# user_age = int(input(\"What is your age\"))\n",
    "\n",
    "# user_age += 1\n",
    "\n",
    "\n",
    "# print(user_age)"
   ]
  },
  {
   "cell_type": "markdown",
   "metadata": {},
   "source": [
    "##### format()"
   ]
  },
  {
   "cell_type": "code",
   "execution_count": 100,
   "metadata": {},
   "outputs": [
    {
     "name": "stdout",
     "output_type": "stream",
     "text": [
      "arg\n"
     ]
    },
    {
     "data": {
      "text/plain": [
       "'hello Porter you are 19 years old'"
      ]
     },
     "execution_count": 100,
     "metadata": {},
     "output_type": "execute_result"
    }
   ],
   "source": [
    "age = 19\n",
    "print('arg')\n",
    "\n",
    "'hello {} you are {} years old' .format(name, age)"
   ]
  },
  {
   "cell_type": "code",
   "execution_count": 102,
   "metadata": {},
   "outputs": [
    {
     "data": {
      "text/plain": [
       "'hello Porter you are 20 years old'"
      ]
     },
     "execution_count": 102,
     "metadata": {},
     "output_type": "execute_result"
    }
   ],
   "source": [
    "f'hello {name} you are {age + 1} years old'"
   ]
  },
  {
   "cell_type": "markdown",
   "metadata": {},
   "source": [
    "##### Old Way (python 2)"
   ]
  },
  {
   "cell_type": "code",
   "execution_count": 98,
   "metadata": {},
   "outputs": [
    {
     "data": {
      "text/plain": [
       "'Hello Porter you are 19 years old'"
      ]
     },
     "execution_count": 98,
     "metadata": {},
     "output_type": "execute_result"
    }
   ],
   "source": [
    "'Hello %s you are %d years old' %(name, age)"
   ]
  },
  {
   "cell_type": "markdown",
   "metadata": {},
   "source": [
    "# In-Class Exercise 1 <br>\n",
    "<p>Create a format statement that asks for color, year, make, model and prints out the results</p>"
   ]
  },
  {
   "cell_type": "code",
   "execution_count": 106,
   "metadata": {},
   "outputs": [
    {
     "name": "stdout",
     "output_type": "stream",
     "text": [
      "what's your car's color: silver\n",
      "what's your car's year: 2004\n",
      "what's your car's make: volvo\n",
      "what's your car's model: xc70\n"
     ]
    },
    {
     "data": {
      "text/plain": [
       "'Your car is a silver volvo xc70 made in 2004!'"
      ]
     },
     "execution_count": 106,
     "metadata": {},
     "output_type": "execute_result"
    }
   ],
   "source": [
    "color = input('what\\'s your car\\'s color: ')\n",
    "year = input('what\\'s your car\\'s year: ')\n",
    "make = input('what\\'s your car\\'s make: ')\n",
    "model = input('what\\'s your car\\'s model: ')\n",
    "\n",
    "print(f'your car is a {color} {make} {model} made in {year}!')"
   ]
  },
  {
   "cell_type": "markdown",
   "metadata": {},
   "source": [
    "### If Statements"
   ]
  },
  {
   "cell_type": "code",
   "execution_count": 109,
   "metadata": {},
   "outputs": [
    {
     "name": "stdout",
     "output_type": "stream",
     "text": [
      "False\n",
      "11 > 10 True\n",
      "action two\n",
      "10 equal 10\n",
      "11 >= 11\n",
      "10 >= 9 and 11 == 11\n",
      "10 >= 9 or 11 != 11\n",
      "prevent error short circut\n"
     ]
    }
   ],
   "source": [
    "# Available operators: Greater(>), Less(<), Equal(==), NotEqual(!=),\n",
    "# Greater or Equal(>=), Less of Equal(<=)\n",
    "\n",
    "# Truth Tree:\n",
    "# T and F = F\n",
    "# T and T = T\n",
    "# T or F = T\n",
    "# F or T = T\n",
    "# F or F = F\n",
    "\n",
    "# syntax\n",
    "# if <boolean statement>:\n",
    "#     action\n",
    "\n",
    "\n",
    "\n",
    "print(10 > 11)\n",
    "if 10 > 11:\n",
    "    print('10 > 11 True')\n",
    "\n",
    "if 11 > 10:\n",
    "    print('11 > 10 True')\n",
    "    print('action two')\n",
    "    \n",
    "if 10 == 10:\n",
    "    print('10 equal 10')\n",
    "    \n",
    "if 10 != 10:\n",
    "    print('not equal')\n",
    "    \n",
    "if 11 >= 11:\n",
    "    print('11 >= 11')\n",
    "    \n",
    "if 10 >= 9 and 11 == 11:\n",
    "    print(\"10 >= 9 and 11 == 11\")\n",
    "    \n",
    "if 10 >= 9 or 11 != 11:\n",
    "    print(\"10 >= 9 or 11 != 11\")\n",
    "    \n",
    "if 10 == 10 or int('abc') > 11:\n",
    "    print('prevent error short circut')"
   ]
  },
  {
   "cell_type": "markdown",
   "metadata": {},
   "source": [
    "##### 'is' keyword"
   ]
  },
  {
   "cell_type": "code",
   "execution_count": 118,
   "metadata": {
    "scrolled": true
   },
   "outputs": [
    {
     "name": "stdout",
     "output_type": "stream",
     "text": [
      "{'foo': 'bar'}\n"
     ]
    },
    {
     "data": {
      "text/plain": [
       "True"
      ]
     },
     "execution_count": 118,
     "metadata": {},
     "output_type": "execute_result"
    }
   ],
   "source": [
    "# bad practice use =\n",
    "print(11 is 11)\n",
    "\n",
    "dict1 = {'foo':'bar'}\n",
    "dict2 = {'foo':'bar'}\n",
    "\n",
    "dict3 = dict1\n",
    "\n",
    "print(dict3)\n",
    "\n",
    "dict1 is dict2\n",
    "dict3 is dict1"
   ]
  },
  {
   "cell_type": "markdown",
   "metadata": {},
   "source": [
    "##### 'in' keyword"
   ]
  },
  {
   "cell_type": "code",
   "execution_count": 124,
   "metadata": {},
   "outputs": [],
   "source": [
    "'c' in 'abc'\n",
    "\n",
    "'d' in 'abc'\n",
    "\n",
    "porter_grades = '5,5,5,5,5'\n",
    "\n",
    "if '0' in porter_grades:\n",
    "    print('fail or make sure to catch up')"
   ]
  },
  {
   "cell_type": "markdown",
   "metadata": {},
   "source": [
    "##### 'not in' keyword'"
   ]
  },
  {
   "cell_type": "code",
   "execution_count": 127,
   "metadata": {},
   "outputs": [
    {
     "name": "stdout",
     "output_type": "stream",
     "text": [
      "Congrats you graduate!\n",
      "True\n",
      "False\n"
     ]
    }
   ],
   "source": [
    "if '0' not in porter_grades:\n",
    "    print('Congrats you graduate!')\n",
    "    \n",
    "    print('z' not in 'foo')\n",
    "    print('b' not in 'bar')"
   ]
  },
  {
   "cell_type": "markdown",
   "metadata": {},
   "source": [
    "# In-Class Exercise 2 <br>\n",
    "<p>Ask user for input, check to see if the letter 'p' is in the input</p>"
   ]
  },
  {
   "cell_type": "code",
   "execution_count": 133,
   "metadata": {},
   "outputs": [
    {
     "name": "stdout",
     "output_type": "stream",
     "text": [
      "Please respond with anything you'd like: pad\n",
      "I see a p\n"
     ]
    }
   ],
   "source": [
    "U_INPUT = input('Please respond with anything you\\'d like: ')\n",
    "if 'p' or 'P' in U_INPUT:\n",
    "    print('I see a p')"
   ]
  },
  {
   "cell_type": "markdown",
   "metadata": {},
   "source": [
    "## Using 'and'/'or' with If Statements"
   ]
  },
  {
   "cell_type": "code",
   "execution_count": 2,
   "metadata": {},
   "outputs": [],
   "source": [
    "#  see above\n",
    "\n",
    "if 'foo' in 'foobar' and 'bar' in 'foo':\n",
    "    print('true')"
   ]
  },
  {
   "cell_type": "markdown",
   "metadata": {},
   "source": [
    "### Elif Statements"
   ]
  },
  {
   "cell_type": "code",
   "execution_count": 7,
   "metadata": {},
   "outputs": [
    {
     "name": "stdout",
     "output_type": "stream",
     "text": [
      "today's instructor is dylan\n"
     ]
    }
   ],
   "source": [
    "if 'dylan' == 'dylan':\n",
    "    print('today\\'s instructor is dylan')\n",
    "elif 'sean currie' == 'sean currie':\n",
    "    print('your lucky day')"
   ]
  },
  {
   "cell_type": "code",
   "execution_count": 11,
   "metadata": {},
   "outputs": [
    {
     "name": "stdout",
     "output_type": "stream",
     "text": [
      " back to school\n",
      "monday\n"
     ]
    }
   ],
   "source": [
    "today = 'monday'\n",
    "\n",
    "if today == 'sunday':\n",
    "    print('enjoy your last day of the weekend')\n",
    "elif today == 'monday':\n",
    "    print(' back to school')\n",
    "elif today =='tuesday':\n",
    "    print('working through the week')\n",
    "elif today == 'wednesday':\n",
    "    print('hump day')\n",
    "    \n",
    "print(today)"
   ]
  },
  {
   "cell_type": "markdown",
   "metadata": {},
   "source": [
    "### Else Statements"
   ]
  },
  {
   "cell_type": "code",
   "execution_count": 13,
   "metadata": {},
   "outputs": [
    {
     "name": "stdout",
     "output_type": "stream",
     "text": [
      "it's the weekend\n"
     ]
    }
   ],
   "source": [
    "if today == 'saturday' or today == 'sunday':\n",
    "    print('it\\'s the weekend')\n",
    "\n",
    "else:\n",
    "    print('time for school')"
   ]
  },
  {
   "cell_type": "code",
   "execution_count": 17,
   "metadata": {},
   "outputs": [
    {
     "name": "stdout",
     "output_type": "stream",
     "text": [
      "one letter\n"
     ]
    }
   ],
   "source": [
    "if '':\n",
    "    print('empty string')\n",
    "if 'a':\n",
    "    print('one letter')"
   ]
  },
  {
   "cell_type": "markdown",
   "metadata": {},
   "source": [
    "### For Loops"
   ]
  },
  {
   "cell_type": "code",
   "execution_count": 24,
   "metadata": {},
   "outputs": [
    {
     "name": "stdout",
     "output_type": "stream",
     "text": [
      "s\n",
      "line two\n",
      "e\n",
      "line two\n",
      "a\n",
      "line two\n",
      "n\n",
      "line two\n",
      " \n",
      "line two\n",
      "c\n",
      "line two\n",
      "u\n",
      "line two\n",
      "r\n",
      "line two\n",
      "r\n",
      "line two\n",
      "i\n",
      "line two\n",
      "e\n",
      "line two\n",
      "completed\n"
     ]
    }
   ],
   "source": [
    "instructor = 'sean currie'\n",
    "\n",
    "for letter in instructor:\n",
    "    print(letter)\n",
    "    print('line two')\n",
    "\n",
    "print('completed')\n",
    "    "
   ]
  },
  {
   "cell_type": "code",
   "execution_count": 33,
   "metadata": {},
   "outputs": [
    {
     "name": "stdout",
     "output_type": "stream",
     "text": [
      "0\n",
      "5\n",
      "go to next number\n",
      "\n",
      "1\n",
      "6\n",
      "go to next number\n",
      "\n",
      "2\n",
      "7\n",
      "go to next number\n",
      "\n",
      "3\n",
      "8\n",
      "go to next number\n",
      "\n",
      "4\n",
      "9\n",
      "go to next number\n",
      "\n",
      "5\n",
      "10\n",
      "go to next number\n",
      "\n",
      "6\n",
      "11\n",
      "go to next number\n",
      "\n",
      "7\n",
      "12\n",
      "go to next number\n",
      "\n",
      "8\n",
      "13\n",
      "go to next number\n",
      "\n",
      "9\n",
      "14\n",
      "go to next number\n",
      "\n",
      "10\n",
      "15\n",
      "go to next number\n",
      "\n",
      "11\n",
      "16\n",
      "go to next number\n",
      "\n",
      "12\n",
      "17\n",
      "go to next number\n",
      "\n",
      "13\n",
      "18\n",
      "go to next number\n",
      "\n",
      "14\n",
      "19\n",
      "go to next number\n",
      "\n",
      "15\n",
      "20\n",
      "go to next number\n",
      "\n",
      "16\n",
      "21\n",
      "go to next number\n",
      "\n",
      "17\n",
      "22\n",
      "go to next number\n",
      "\n",
      "18\n",
      "23\n",
      "go to next number\n",
      "\n",
      "19\n",
      "24\n",
      "range loop complete\n"
     ]
    }
   ],
   "source": [
    "for num in range(20):\n",
    "    print(num)\n",
    "    num += 5\n",
    "    print(num)\n",
    "    if num - 5 != 19:\n",
    "        print('go to next number\\n')\n",
    "\n",
    "print('range loop complete')"
   ]
  },
  {
   "cell_type": "code",
   "execution_count": 45,
   "metadata": {},
   "outputs": [
    {
     "name": "stdout",
     "output_type": "stream",
     "text": [
      "index= 0, element= s\n",
      "index= 1, element= e\n",
      "index= 2, element= a\n",
      "index= 3, element= n\n",
      "index= 4, element=  \n",
      "index= 5, element= c\n",
      "index= 6, element= u\n",
      "index= 7, element= r\n",
      "index= 8, element= r\n",
      "index= 9, element= i\n",
      "index= 10, element= e\n"
     ]
    }
   ],
   "source": [
    "# print(len(instructor))\n",
    "# print(list(range(11)))\n",
    "# print(instructor)\n",
    "\n",
    "\n",
    "for i in range(len(instructor)):\n",
    "    print(f'index= {i}, element= {instructor[i]}')"
   ]
  },
  {
   "cell_type": "markdown",
   "metadata": {},
   "source": [
    "##### Using 'in' keyword"
   ]
  },
  {
   "cell_type": "code",
   "execution_count": null,
   "metadata": {},
   "outputs": [],
   "source": [
    "# see above"
   ]
  },
  {
   "cell_type": "markdown",
   "metadata": {},
   "source": [
    "##### Continue Statement"
   ]
  },
  {
   "cell_type": "code",
   "execution_count": null,
   "metadata": {},
   "outputs": [],
   "source": [
    "# will continue to next iteration"
   ]
  },
  {
   "cell_type": "code",
   "execution_count": 50,
   "metadata": {},
   "outputs": [
    {
     "name": "stdout",
     "output_type": "stream",
     "text": [
      "0\n",
      "1\n",
      "2\n",
      "3\n",
      "4\n",
      "6\n",
      "7\n",
      "8\n",
      "9\n",
      "11\n",
      "12\n",
      "13\n",
      "14\n",
      "15\n",
      "16\n",
      "17\n",
      "18\n",
      "19\n"
     ]
    }
   ],
   "source": [
    "for num in range(20):\n",
    "    if num == 5 or num == 10:\n",
    "        continue\n",
    "    print(num)"
   ]
  },
  {
   "cell_type": "markdown",
   "metadata": {},
   "source": [
    "##### Break Statement"
   ]
  },
  {
   "cell_type": "code",
   "execution_count": null,
   "metadata": {},
   "outputs": [],
   "source": [
    "# will break out of current loop"
   ]
  },
  {
   "cell_type": "code",
   "execution_count": 53,
   "metadata": {},
   "outputs": [
    {
     "name": "stdout",
     "output_type": "stream",
     "text": [
      "0\n",
      "1\n",
      "2\n",
      "3\n",
      "4\n",
      "out of loop\n"
     ]
    }
   ],
   "source": [
    "for num in range(20):\n",
    "    if num == 5:\n",
    "        break\n",
    "    print(num)\n",
    "    \n",
    "print('out of loop')"
   ]
  },
  {
   "cell_type": "markdown",
   "metadata": {},
   "source": [
    "##### Pass Statement"
   ]
  },
  {
   "cell_type": "code",
   "execution_count": null,
   "metadata": {},
   "outputs": [],
   "source": [
    "# mostly used as a placeholder, and will continue on same iteration"
   ]
  },
  {
   "cell_type": "code",
   "execution_count": 59,
   "metadata": {},
   "outputs": [
    {
     "name": "stdout",
     "output_type": "stream",
     "text": [
      "Give me data20\n"
     ]
    }
   ],
   "source": [
    "def get_user_data():\n",
    "    input('Give me data: ')\n",
    "def handle_used_data():\n",
    "    pass\n",
    "\n",
    "\n",
    "\n",
    "get_user_data()"
   ]
  },
  {
   "cell_type": "code",
   "execution_count": 60,
   "metadata": {},
   "outputs": [
    {
     "name": "stdout",
     "output_type": "stream",
     "text": [
      "0\n",
      "1\n",
      "2\n",
      "3\n",
      "4\n",
      "5\n",
      "6\n",
      "7\n",
      "8\n",
      "9\n",
      "10\n",
      "11\n",
      "12\n",
      "13\n",
      "14\n",
      "15\n",
      "16\n",
      "17\n",
      "18\n",
      "19\n"
     ]
    }
   ],
   "source": [
    "for num in range(20):\n",
    "    if num == 5:\n",
    "        pass\n",
    "    print(num)"
   ]
  },
  {
   "cell_type": "markdown",
   "metadata": {},
   "source": [
    "##### Double For Loops"
   ]
  },
  {
   "cell_type": "code",
   "execution_count": 68,
   "metadata": {},
   "outputs": [
    {
     "name": "stdout",
     "output_type": "stream",
     "text": [
      "0 s\n",
      "0 e\n",
      "0 a\n",
      "0 n\n",
      "0  \n",
      "0 c\n",
      "0 u\n",
      "0 r\n",
      "0 r\n",
      "0 i\n",
      "0 e\n",
      "nested loop complete\n",
      "\n",
      "1 s\n",
      "1 e\n",
      "1 a\n",
      "1 n\n",
      "1  \n",
      "1 c\n",
      "1 u\n",
      "1 r\n",
      "1 r\n",
      "1 i\n",
      "1 e\n",
      "nested loop complete\n",
      "\n",
      "2 s\n",
      "2 e\n",
      "2 a\n",
      "2 n\n",
      "2  \n",
      "2 c\n",
      "2 u\n",
      "2 r\n",
      "2 r\n",
      "2 i\n",
      "2 e\n",
      "nested loop complete\n",
      "\n",
      "3 s\n",
      "3 e\n",
      "3 a\n",
      "3 n\n",
      "3  \n",
      "3 c\n",
      "3 u\n",
      "3 r\n",
      "3 r\n",
      "3 i\n",
      "3 e\n",
      "nested loop complete\n",
      "\n",
      "4 s\n",
      "4 e\n",
      "4 a\n",
      "4 n\n",
      "4  \n",
      "4 c\n",
      "4 u\n",
      "4 r\n",
      "4 r\n",
      "4 i\n",
      "4 e\n",
      "nested loop complete\n",
      "\n",
      "0\n"
     ]
    }
   ],
   "source": [
    "step = 0\n",
    "for num in range(5):\n",
    "    for letter in 'sean currie':\n",
    "        print(num, letter)\n",
    "    print('nested loop complete\\n')\n",
    "        \n",
    "print(step)"
   ]
  },
  {
   "cell_type": "code",
   "execution_count": 79,
   "metadata": {},
   "outputs": [
    {
     "name": "stdout",
     "output_type": "stream",
     "text": [
      "a\n",
      "a\n"
     ]
    }
   ],
   "source": [
    "# print any duplicate letters\n",
    "\n",
    "our_string = 'matrixa'\n",
    "\n",
    "for i, letter in enumerate(our_string):\n",
    "    for y, letter2 in enumerate(our_string):\n",
    "        if i!=y and letter == letter2:\n",
    "            print(letter)\n",
    "            break"
   ]
  },
  {
   "cell_type": "code",
   "execution_count": 81,
   "metadata": {},
   "outputs": [
    {
     "data": {
      "text/plain": [
       "[(0, 'm'), (1, 'a'), (2, 't'), (3, 'r'), (4, 'i'), (5, 'x'), (6, 'a')]"
      ]
     },
     "execution_count": 81,
     "metadata": {},
     "output_type": "execute_result"
    }
   ],
   "source": [
    "list(enumerate('matrixa'))"
   ]
  },
  {
   "cell_type": "markdown",
   "metadata": {},
   "source": [
    "### While Loops"
   ]
  },
  {
   "cell_type": "code",
   "execution_count": 84,
   "metadata": {},
   "outputs": [
    {
     "name": "stdout",
     "output_type": "stream",
     "text": [
      "0\n",
      "1\n",
      "2\n",
      "3\n",
      "4\n",
      "5\n",
      "6\n",
      "7\n",
      "8\n",
      "9\n",
      "10\n",
      "11\n",
      "12\n",
      "13\n",
      "14\n",
      "15\n",
      "16\n",
      "17\n",
      "18\n",
      "19\n",
      "complete\n",
      "Are you ready to play: [y/n]: y\n",
      "having tons of fun\n",
      "Are you still playing: [y/n]: y\n",
      "having tons of fun\n",
      "Are you still playing: [y/n]: y\n",
      "having tons of fun\n",
      "Are you still playing: [y/n]: y\n",
      "having tons of fun\n",
      "Are you still playing: [y/n]: y\n",
      "having tons of fun\n",
      "Are you still playing: [y/n]: n\n"
     ]
    }
   ],
   "source": [
    "# while <condition>:\n",
    "#       <codeblock>\n",
    "num = 0\n",
    "while num < 20:\n",
    "    print(num)\n",
    "    num += 1\n",
    "    \n",
    "print('complete')\n",
    "\n",
    "playing = input('Are you ready to play: [y/n]: ')\n",
    "\n",
    "while playing == 'y':\n",
    "    print('having tons of fun')\n",
    "    playing = input('Are you still playing: [y/n]: ')\n",
    "    \n",
    "    if playing != 'y':\n",
    "        break"
   ]
  },
  {
   "cell_type": "markdown",
   "metadata": {},
   "source": [
    "##### Looping 'While True'"
   ]
  },
  {
   "cell_type": "code",
   "execution_count": null,
   "metadata": {},
   "outputs": [],
   "source": [
    "while True:\n",
    "    playing = input('Are you still playing: [y/n]: ')\n",
    "    \n",
    "    if playing == 'n':\n",
    "        break"
   ]
  },
  {
   "cell_type": "markdown",
   "metadata": {},
   "source": [
    "##### While & For Loops Used Together"
   ]
  },
  {
   "cell_type": "code",
   "execution_count": 88,
   "metadata": {},
   "outputs": [
    {
     "name": "stdout",
     "output_type": "stream",
     "text": [
      "num = 0, letter = 's'\n",
      "num = 0, letter = 'e'\n",
      "num = 0, letter = 'a'\n",
      "num = 0, letter = 'n'\n",
      "num = 0, letter = ' '\n",
      "num = 0, letter = 'c'\n",
      "num = 0, letter = 'u'\n",
      "num = 0, letter = 'r'\n",
      "num = 0, letter = 'r'\n",
      "num = 0, letter = 'i'\n",
      "num = 0, letter = 'e'\n",
      "nested loop complete\n",
      "\n",
      "num = 1, letter = 's'\n",
      "num = 1, letter = 'e'\n",
      "num = 1, letter = 'a'\n",
      "num = 1, letter = 'n'\n",
      "num = 1, letter = ' '\n",
      "num = 1, letter = 'c'\n",
      "num = 1, letter = 'u'\n",
      "num = 1, letter = 'r'\n",
      "num = 1, letter = 'r'\n",
      "num = 1, letter = 'i'\n",
      "num = 1, letter = 'e'\n",
      "nested loop complete\n",
      "\n",
      "num = 2, letter = 's'\n",
      "num = 2, letter = 'e'\n",
      "num = 2, letter = 'a'\n",
      "num = 2, letter = 'n'\n",
      "num = 2, letter = ' '\n",
      "num = 2, letter = 'c'\n",
      "num = 2, letter = 'u'\n",
      "num = 2, letter = 'r'\n",
      "num = 2, letter = 'r'\n",
      "num = 2, letter = 'i'\n",
      "num = 2, letter = 'e'\n",
      "nested loop complete\n",
      "\n",
      "num = 3, letter = 's'\n",
      "num = 3, letter = 'e'\n",
      "num = 3, letter = 'a'\n",
      "num = 3, letter = 'n'\n",
      "num = 3, letter = ' '\n",
      "num = 3, letter = 'c'\n",
      "num = 3, letter = 'u'\n",
      "num = 3, letter = 'r'\n",
      "num = 3, letter = 'r'\n",
      "num = 3, letter = 'i'\n",
      "num = 3, letter = 'e'\n",
      "nested loop complete\n",
      "\n",
      "num = 4, letter = 's'\n",
      "num = 4, letter = 'e'\n",
      "num = 4, letter = 'a'\n",
      "num = 4, letter = 'n'\n",
      "num = 4, letter = ' '\n",
      "num = 4, letter = 'c'\n",
      "num = 4, letter = 'u'\n",
      "num = 4, letter = 'r'\n",
      "num = 4, letter = 'r'\n",
      "num = 4, letter = 'i'\n",
      "num = 4, letter = 'e'\n",
      "nested loop complete\n",
      "\n"
     ]
    }
   ],
   "source": [
    "num = 0\n",
    "while num < 5:\n",
    "    for letter in 'sean currie':\n",
    "        print(f'{num = }, {letter = }')\n",
    "    num += 1\n",
    "    print('nested loop complete\\n')"
   ]
  },
  {
   "cell_type": "markdown",
   "metadata": {},
   "source": [
    "### Built-In Functions"
   ]
  },
  {
   "cell_type": "markdown",
   "metadata": {},
   "source": [
    "##### range()"
   ]
  },
  {
   "cell_type": "code",
   "execution_count": 30,
   "metadata": {},
   "outputs": [
    {
     "data": {
      "text/plain": [
       "[1, 3, 5, 7, 9, 11, 13, 15, 17, 19]"
      ]
     },
     "execution_count": 30,
     "metadata": {},
     "output_type": "execute_result"
    }
   ],
   "source": [
    "list(range(20))\n",
    "\n",
    "# syntax range(start, stop, step)\n",
    "\n",
    "list(range(1, 21, 2))"
   ]
  },
  {
   "cell_type": "markdown",
   "metadata": {},
   "source": [
    "##### len()"
   ]
  },
  {
   "cell_type": "code",
   "execution_count": 91,
   "metadata": {},
   "outputs": [
    {
     "data": {
      "text/plain": [
       "5"
      ]
     },
     "execution_count": 91,
     "metadata": {},
     "output_type": "execute_result"
    }
   ],
   "source": [
    "len('dylan')"
   ]
  },
  {
   "cell_type": "markdown",
   "metadata": {},
   "source": [
    "##### help()"
   ]
  },
  {
   "cell_type": "code",
   "execution_count": 92,
   "metadata": {},
   "outputs": [
    {
     "name": "stdout",
     "output_type": "stream",
     "text": [
      "Help on built-in function len in module builtins:\n",
      "\n",
      "len(obj, /)\n",
      "    Return the number of items in a container.\n",
      "\n"
     ]
    }
   ],
   "source": [
    "help(len)"
   ]
  },
  {
   "cell_type": "markdown",
   "metadata": {},
   "source": [
    "##### isinstance()"
   ]
  },
  {
   "cell_type": "code",
   "execution_count": 99,
   "metadata": {},
   "outputs": [
    {
     "name": "stdout",
     "output_type": "stream",
     "text": [
      "Help on built-in function isinstance in module builtins:\n",
      "\n",
      "isinstance(obj, class_or_tuple, /)\n",
      "    Return whether an object is an instance of a class or of a subclass thereof.\n",
      "    \n",
      "    A tuple, as in ``isinstance(x, (A, B, ...))``, may be given as the target to\n",
      "    check against. This is equivalent to ``isinstance(x, A) or isinstance(x, B)\n",
      "    or ...`` etc.\n",
      "\n",
      "34\n"
     ]
    }
   ],
   "source": [
    "help(isinstance)\n",
    "\n",
    "isinstance(1,(str, int))\n",
    "\n",
    "isinstance(1,int)\n",
    "isinstance('abc',str)\n",
    "\n",
    "\n",
    "age = 33\n",
    "\n",
    "if isinstance(age,int):\n",
    "    print(age + 1)"
   ]
  },
  {
   "cell_type": "markdown",
   "metadata": {},
   "source": [
    "##### abs()"
   ]
  },
  {
   "cell_type": "code",
   "execution_count": 100,
   "metadata": {},
   "outputs": [
    {
     "data": {
      "text/plain": [
       "True"
      ]
     },
     "execution_count": 100,
     "metadata": {},
     "output_type": "execute_result"
    }
   ],
   "source": [
    "abs(-5) == 5 == abs(5)"
   ]
  },
  {
   "cell_type": "markdown",
   "metadata": {},
   "source": [
    "### Try and Except"
   ]
  },
  {
   "cell_type": "code",
   "execution_count": 106,
   "metadata": {},
   "outputs": [
    {
     "name": "stdout",
     "output_type": "stream",
     "text": [
      "enter your age: 19\n"
     ]
    }
   ],
   "source": [
    "# age = int(input('enter your age: '))"
   ]
  },
  {
   "cell_type": "code",
   "execution_count": null,
   "metadata": {},
   "outputs": [],
   "source": [
    "while True:\n",
    "\n",
    "    age = input('enter your age: ')\n",
    "\n",
    "    try:\n",
    "        age = int(age)\n",
    "        break\n",
    "    except valueError:\n",
    "        print('please enter age in digits ex: 33')\n",
    "    except:\n",
    "        print('i dont know')\n",
    "        \n",
    "age = int(age)"
   ]
  },
  {
   "cell_type": "markdown",
   "metadata": {},
   "source": [
    "### Lists"
   ]
  },
  {
   "cell_type": "markdown",
   "metadata": {},
   "source": [
    "##### Declaring Lists"
   ]
  },
  {
   "cell_type": "code",
   "execution_count": null,
   "metadata": {},
   "outputs": [],
   "source": []
  },
  {
   "cell_type": "markdown",
   "metadata": {},
   "source": [
    "##### Indexing a List"
   ]
  },
  {
   "cell_type": "code",
   "execution_count": null,
   "metadata": {},
   "outputs": [],
   "source": []
  },
  {
   "cell_type": "markdown",
   "metadata": {},
   "source": [
    "##### .append()"
   ]
  },
  {
   "cell_type": "code",
   "execution_count": null,
   "metadata": {},
   "outputs": [],
   "source": []
  },
  {
   "cell_type": "markdown",
   "metadata": {},
   "source": [
    "##### .insert()"
   ]
  },
  {
   "cell_type": "code",
   "execution_count": null,
   "metadata": {},
   "outputs": [],
   "source": []
  },
  {
   "cell_type": "markdown",
   "metadata": {},
   "source": [
    "##### .pop()"
   ]
  },
  {
   "cell_type": "code",
   "execution_count": null,
   "metadata": {},
   "outputs": [],
   "source": []
  },
  {
   "cell_type": "markdown",
   "metadata": {},
   "source": [
    "\n",
    "##### .remove()"
   ]
  },
  {
   "cell_type": "code",
   "execution_count": null,
   "metadata": {},
   "outputs": [],
   "source": []
  },
  {
   "cell_type": "markdown",
   "metadata": {},
   "source": [
    "##### del()"
   ]
  },
  {
   "cell_type": "code",
   "execution_count": null,
   "metadata": {},
   "outputs": [],
   "source": []
  },
  {
   "cell_type": "markdown",
   "metadata": {},
   "source": [
    "##### Concatenating Two Lists"
   ]
  },
  {
   "cell_type": "code",
   "execution_count": null,
   "metadata": {},
   "outputs": [],
   "source": []
  },
  {
   "cell_type": "markdown",
   "metadata": {},
   "source": [
    "##### Lists Within Lists"
   ]
  },
  {
   "cell_type": "code",
   "execution_count": null,
   "metadata": {},
   "outputs": [],
   "source": []
  },
  {
   "cell_type": "markdown",
   "metadata": {},
   "source": [
    "##### Looping Through Lists"
   ]
  },
  {
   "cell_type": "code",
   "execution_count": null,
   "metadata": {},
   "outputs": [],
   "source": []
  },
  {
   "cell_type": "markdown",
   "metadata": {},
   "source": [
    "## Exercise #1 <br>\n",
    "<p>Cube Number Test... Print out all cubed numbers up to the total value 1000. Meaning that if the cubed number is over 1000 break the loop.</p>"
   ]
  },
  {
   "cell_type": "code",
   "execution_count": 109,
   "metadata": {},
   "outputs": [
    {
     "data": {
      "text/plain": [
       "1000"
      ]
     },
     "execution_count": 109,
     "metadata": {},
     "output_type": "execute_result"
    }
   ],
   "source": [
    "10**3"
   ]
  },
  {
   "cell_type": "markdown",
   "metadata": {},
   "source": [
    "## Exercise #2 <br>\n",
    "<p>Get first prime numbers up to 100</p>"
   ]
  },
  {
   "cell_type": "code",
   "execution_count": null,
   "metadata": {},
   "outputs": [],
   "source": [
    "# HINT::\n",
    "# An else after an if runs if the if didn’t\n",
    "# An else after a for runs if the for didn’t break\n",
    "\n",
    "\n"
   ]
  },
  {
   "cell_type": "markdown",
   "metadata": {},
   "source": [
    "# Exercise 3 <br>\n",
    "<p>Take in a users input for their age, if they are younger than 18 print kids, if they're 18 to 65 print adults, else print seniors</p>"
   ]
  },
  {
   "cell_type": "code",
   "execution_count": 114,
   "metadata": {},
   "outputs": [
    {
     "name": "stdout",
     "output_type": "stream",
     "text": [
      "please input your age in digits: 79\n",
      "seniors\n"
     ]
    }
   ],
   "source": [
    "age = int(input('please input your age in digits: '))\n",
    "\n",
    "if age < 18:\n",
    "    print('kids')\n",
    "elif age >= 18 and age <= 65:\n",
    "    print('adults')\n",
    "else:\n",
    "    print('seniors')"
   ]
  }
 ],
 "metadata": {
  "celltoolbar": "Raw Cell Format",
  "kernelspec": {
   "display_name": "Python 3 (ipykernel)",
   "language": "python",
   "name": "python3"
  },
  "language_info": {
   "codemirror_mode": {
    "name": "ipython",
    "version": 3
   },
   "file_extension": ".py",
   "mimetype": "text/x-python",
   "name": "python",
   "nbconvert_exporter": "python",
   "pygments_lexer": "ipython3",
   "version": "3.11.4"
  }
 },
 "nbformat": 4,
 "nbformat_minor": 2
}
